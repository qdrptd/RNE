{
  "cells": [
    {
      "cell_type": "markdown",
      "metadata": {
        "id": "view-in-github",
        "colab_type": "text"
      },
      "source": [
        "<a href=\"https://colab.research.google.com/github/qdrptd/RNE/blob/main/comments.ipynb\" target=\"_parent\"><img src=\"https://colab.research.google.com/assets/colab-badge.svg\" alt=\"Open In Colab\"/></a>"
      ]
    },
    {
      "cell_type": "code",
      "execution_count": null,
      "metadata": {
        "id": "9bYi0UQr0W7f"
      },
      "outputs": [],
      "source": [
        "!pip install selenium\n",
        "!apt-get update\n",
        "!apt install chromium-chromedriver\n",
        "!cp /usr/lib/chromium-browser/chromedriver /usr/bin"
      ]
    },
    {
      "cell_type": "code",
      "execution_count": 2,
      "metadata": {
        "id": "X7Vs3qqP02TN"
      },
      "outputs": [],
      "source": [
        "from selenium import webdriver\n",
        "import time\n",
        "from openpyxl import Workbook\n",
        "import pandas as pd\n",
        "from selenium.webdriver.common.keys import Keys\n",
        "from bs4 import BeautifulSoup"
      ]
    },
    {
      "cell_type": "code",
      "execution_count": 27,
      "metadata": {
        "id": "qwoUGBMO0UMt"
      },
      "outputs": [],
      "source": [
        "# -*- coding: UTF-8 -*-\n",
        "import time\n",
        "from selenium import webdriver\n",
        " \n",
        "#Colab에선 웹브라우저 창이 뜨지 않으므로 별도 설정한다.\n",
        " \n",
        "options = webdriver.ChromeOptions()\n",
        "options.add_argument('--headless')        # Head-less 설정\n",
        "options.add_argument('--no-sandbox')\n",
        "options.add_argument('--disable-dev-shm-usage')\n",
        "driver = webdriver.Chrome('chromedriver', options=options)\n",
        " \n",
        "#해당 url로 이동\n",
        "search = '메타버스'\n",
        "url = \"https://www.youtube.com/results?search_query=\" + search #search 단어를 검색했을 때 나오는 페이지\n",
        "driver.get(url)"
      ]
    },
    {
      "cell_type": "code",
      "execution_count": 28,
      "metadata": {
        "colab": {
          "base_uri": "https://localhost:8080/"
        },
        "id": "azA2w5Ris9g4",
        "outputId": "feece898-37ed-43d6-c57a-d48a48d5a4d7"
      },
      "outputs": [
        {
          "output_type": "stream",
          "name": "stdout",
          "text": [
            "6379\n"
          ]
        }
      ],
      "source": [
        "driver.execute_script(\"window.scrollTo(0,1000)\")\n",
        "time.sleep(3)\n",
        "\n",
        "# 페이지 끝까지 스크롤(복사)\n",
        "last_height = driver.execute_script(\"return document.documentElement.scrollHeight\")\n",
        "print(last_height)\n",
        "while True:\n",
        "    driver.execute_script(\"window.scrollTo(0, document.documentElement.scrollHeight);\")\n",
        "    time.sleep(1.5)\n",
        "\n",
        "    new_height = driver.execute_script(\"return document.documentElement.scrollHeight\")\n",
        "    if new_height == last_height:\n",
        "        break\n",
        "    last_height = new_height\n",
        "\n",
        "    if new_height > 100000: #동영상은 꽤 많이 나와서, 페이지 길이에 한계를 설정\n",
        "      break\n",
        "\n",
        "html = driver.page_source\n",
        "soup = BeautifulSoup(html, 'html.parser')\n",
        "video_list = soup.select(\"a#video-title\")\n",
        "\n",
        "id, titles = [], []\n",
        "for video in video_list: \n",
        "  id.append(video['href']) #동영상 ID(링크) \n",
        "  titles.append(video['title']) #동영상 제목"
      ]
    },
    {
      "cell_type": "code",
      "execution_count": 29,
      "metadata": {
        "colab": {
          "base_uri": "https://localhost:8080/"
        },
        "id": "LAdkrTtRjzXi",
        "outputId": "5a45751d-44b0-46ca-e2d4-ec74a27caf35"
      },
      "outputs": [
        {
          "output_type": "stream",
          "name": "stdout",
          "text": [
            "443 443 443 443 0\n"
          ]
        }
      ],
      "source": [
        "views, channels, subs = [], [], []\n",
        "\n",
        "channel_id_list = soup.select('div#channel-info > a')\n",
        "views_list = soup.select(\"div#metadata > div > span:nth-of-type(1)\")\n",
        "time_list = soup.select(\"div#metadata > div > span:nth-of-type(2)\")\n",
        "\n",
        "for channel_id in channel_id_list:\n",
        "  channels.append(channel_id['href'])\n",
        "  # channel_url = \n",
        "for v in views_list:\n",
        "  views.append(v.text)\n",
        "print(len(id), len(titles), len(views), len(channels), len(subs))\n",
        "pd_data = {\"아이디\" : id, \"제목\" : titles, \"조회수\": views, \"채널\": channels}#, \"구독자\": subs}\n",
        "youtube_pd = pd.DataFrame(pd_data)"
      ]
    },
    {
      "cell_type": "code",
      "execution_count": 30,
      "metadata": {
        "colab": {
          "base_uri": "https://localhost:8080/"
        },
        "id": "7rtvVn6cqz52",
        "outputId": "0cf68127-4ad6-4e88-efe2-2a82816e568b"
      },
      "outputs": [
        {
          "output_type": "stream",
          "name": "stdout",
          "text": [
            "Looking in indexes: https://pypi.org/simple, https://us-python.pkg.dev/colab-wheels/public/simple/\n",
            "Requirement already satisfied: xlsxwriter in /usr/local/lib/python3.7/dist-packages (3.0.3)\n"
          ]
        }
      ],
      "source": [
        "!pip install xlsxwriter"
      ]
    },
    {
      "cell_type": "code",
      "execution_count": 31,
      "metadata": {
        "id": "0bvMTCBjl-jS"
      },
      "outputs": [],
      "source": [
        "youtube_pd.to_excel('youtube.xlsx')"
      ]
    },
    {
      "cell_type": "code",
      "execution_count": 36,
      "metadata": {
        "colab": {
          "base_uri": "https://localhost:8080/"
        },
        "id": "0lVx-A3NzmQ5",
        "outputId": "fd5eba63-fe69-449a-9949-9f9b1a247816"
      },
      "outputs": [
        {
          "output_type": "stream",
          "name": "stdout",
          "text": [
            "['/watch?v=3PcB_HSOQKY', '/watch?v=844F6_D8MDQ', '/watch?v=usI18Izqiic', '/watch?v=gucut1vaTKQ']\n"
          ]
        },
        {
          "output_type": "stream",
          "name": "stderr",
          "text": [
            "/usr/local/lib/python3.7/dist-packages/ipykernel_launcher.py:35: DeprecationWarning: find_element_by_css_selector is deprecated. Please use find_element(by=By.CSS_SELECTOR, value=css_selector) instead\n",
            "/usr/local/lib/python3.7/dist-packages/ipykernel_launcher.py:40: DeprecationWarning: find_elements_by_css_selector is deprecated. Please use find_elements(by=By.CSS_SELECTOR, value=css_selector) instead\n"
          ]
        },
        {
          "output_type": "stream",
          "name": "stdout",
          "text": [
            "종료\n",
            "종료\n",
            "종료\n"
          ]
        }
      ],
      "source": [
        "wb = Workbook(write_only=True)\n",
        "ws = wb.create_sheet()\n",
        "print(id[:4])\n",
        "id_final = []\n",
        "comment_final = []\n",
        "for video_id in id:\n",
        "  url = \"https://www.youtube.com\" + video_id\n",
        "  try:\n",
        "    driver.get(url)\n",
        "  except:\n",
        "    break\n",
        "  driver.implicitly_wait(3)\n",
        "\n",
        "  time.sleep(1.5)\n",
        "\n",
        "  driver.execute_script(\"window.scrollTo(0,1000)\")\n",
        "  time.sleep(3)\n",
        "\n",
        "  # 페이지 끝까지 스크롤\n",
        "  last_height = driver.execute_script(\"return document.documentElement.scrollHeight\")\n",
        "\n",
        "  while True:\n",
        "      driver.execute_script(\"window.scrollTo(0, document.documentElement.scrollHeight);\")\n",
        "      time.sleep(1.5)\n",
        "\n",
        "      new_height = driver.execute_script(\"return document.documentElement.scrollHeight\")\n",
        "      if new_height == last_height:\n",
        "          break\n",
        "      last_height = new_height\n",
        "\n",
        "  time.sleep(1.5)\n",
        "\n",
        "  # 팝업 닫기\n",
        "  try:\n",
        "      driver.find_element_by_css_selector(\"#dismiss-button > a\").click()\n",
        "  except:\n",
        "      pass\n",
        "\n",
        "  # 대댓글 모두 열기\n",
        "  buttons = driver.find_elements_by_css_selector(\"#more-replies > a\")\n",
        "\n",
        "  time.sleep(1.5)\n",
        "\n",
        "  for button in buttons:\n",
        "      button.send_keys(Keys.ENTER)\n",
        "      time.sleep(1.5)\n",
        "      button.click()\n",
        "\n",
        "  time.sleep(1.5)\n",
        "\n",
        "  # 정보 추출하기\n",
        "  html_source = driver.page_source\n",
        "  soup = BeautifulSoup(html_source, 'html.parser')\n",
        "\n",
        "  id_list = soup.select(\"div#header-author > h3 > #author-text > span\")\n",
        "  comment_list = soup.select(\"yt-formatted-string#content-text\")\n",
        "\n",
        "  \n",
        "\n",
        "  for i in range(len(comment_list)):\n",
        "    temp_id = id_list[i].text\n",
        "    temp_id = temp_id.replace('\\n', '')\n",
        "    temp_id = temp_id.replace('\\t', '')\n",
        "    temp_id = temp_id.replace('    ', '')\n",
        "    id_final.append(temp_id)\n",
        "\n",
        "    temp_comment = comment_list[i].text\n",
        "    temp_comment = temp_comment.replace('\\n', '')\n",
        "    temp_comment = temp_comment.replace('\\t', '')\n",
        "    temp_comment = temp_comment.replace('    ', '')\n",
        "    comment_final.append(temp_comment)\n",
        "\n",
        "  print(\"종료\")\n",
        "pd_data = {\"아이디\" : id_final , \"댓글 내용\" : comment_final}\n",
        "youtube_pd = pd.DataFrame(pd_data)\n",
        "\n",
        "youtube_pd.to_excel('comments.xlsx')"
      ]
    },
    {
      "cell_type": "code",
      "execution_count": 32,
      "metadata": {
        "id": "7dkdy0lhvwmR"
      },
      "outputs": [],
      "source": [
        ""
      ]
    }
  ],
  "metadata": {
    "colab": {
      "name": "유튜브 크롤링 .ipynb의 사본",
      "provenance": [],
      "include_colab_link": true
    },
    "kernelspec": {
      "display_name": "Python 3",
      "name": "python3"
    },
    "language_info": {
      "name": "python"
    }
  },
  "nbformat": 4,
  "nbformat_minor": 0
}